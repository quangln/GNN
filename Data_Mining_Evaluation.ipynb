{
  "nbformat": 4,
  "nbformat_minor": 0,
  "metadata": {
    "colab": {
      "provenance": [],
      "authorship_tag": "ABX9TyPh7z+203ObZUQR3G78z1db",
      "include_colab_link": true
    },
    "kernelspec": {
      "name": "python3",
      "display_name": "Python 3"
    },
    "language_info": {
      "name": "python"
    },
    "gpuClass": "standard"
  },
  "cells": [
    {
      "cell_type": "markdown",
      "metadata": {
        "id": "view-in-github",
        "colab_type": "text"
      },
      "source": [
        "<a href=\"https://colab.research.google.com/github/quangln/GNN/blob/main/Data_Mining_Evaluation.ipynb\" target=\"_parent\"><img src=\"https://colab.research.google.com/assets/colab-badge.svg\" alt=\"Open In Colab\"/></a>"
      ]
    },
    {
      "cell_type": "code",
      "execution_count": null,
      "metadata": {
        "id": "wEhpF9L52FjS"
      },
      "outputs": [],
      "source": [
        "import openpyxl\n",
        "import csv"
      ]
    },
    {
      "cell_type": "code",
      "source": [
        "from google.colab import drive\n",
        "import os\n",
        "drive.mount('/content/drive/')"
      ],
      "metadata": {
        "colab": {
          "base_uri": "https://localhost:8080/"
        },
        "id": "UXrjXcVq2pux",
        "outputId": "cd355cd5-a87b-4937-e5b5-339d732b9ab1"
      },
      "execution_count": null,
      "outputs": [
        {
          "output_type": "stream",
          "name": "stdout",
          "text": [
            "Drive already mounted at /content/drive/; to attempt to forcibly remount, call drive.mount(\"/content/drive/\", force_remount=True).\n"
          ]
        }
      ]
    },
    {
      "cell_type": "code",
      "source": [
        "evaluated_file_name = 'rowID.csv'\n",
        "#path = 'MyDrive/UA_IMEC/Teaching/Data_Mining_2023/'\n",
        "path = '/content/drive/MyDrive/DeepLearning/'"
      ],
      "metadata": {
        "id": "2NM768Ho4K1F"
      },
      "execution_count": null,
      "outputs": []
    },
    {
      "cell_type": "code",
      "source": [
        "# Read the first file and load the RowID and class columns into a dictionary\n",
        "class_dict = {}\n",
        "workbook_file = ''.join([path, 'correct-labels.xlsx'])\n",
        "evaluated_file = ''.join([path, evaluated_file_name])\n",
        "print (workbook_file)\n",
        "print (evaluated_file)\n",
        "try:\n",
        "    workbook = openpyxl.load_workbook(workbook_file)\n",
        "    worksheet = workbook.active\n",
        "    for row in worksheet.iter_rows(min_row=2, values_only=True):\n",
        "        row_id, class_label = row[0], row[-1]\n",
        "        class_dict[row_id] = class_label\n",
        "except FileNotFoundError:\n",
        "    print(\"Error: 'correct-labels.xlsx' file not found.\")\n",
        "    exit()\n",
        "except:\n",
        "    print(\"Error: Failed to read 'correct-labels.xlsx' file.\")\n",
        "    exit()\n",
        "\n",
        "#print (class_dict)\n",
        "# Read the second file and count the RowID per class using the dictionary\n",
        "class_counts = {}\n",
        "try:\n",
        "    with open(evaluated_file, 'r') as f:\n",
        "        reader = csv.reader(f)\n",
        "        next(reader)  # Skip the header row\n",
        "        for row in reader:\n",
        "            row_id = row[0]\n",
        "            if row_id in class_dict:\n",
        "                class_label = class_dict[row_id]\n",
        "                if class_label in class_counts:\n",
        "                    class_counts[class_label] += 1\n",
        "                else:\n",
        "                    class_counts[class_label] = 1\n",
        "            else:\n",
        "                print(f\"Warning: RowID {row_id} not found in 'correct-labels.xlsx' file.\")\n",
        "except FileNotFoundError:\n",
        "    print(\"Error: Evaluated file not found.\")\n",
        "    exit()\n",
        "except:\n",
        "    print(\"Error: Failed to read evaluated file.\")\n",
        "    exit()\n",
        "\n",
        "# Print the RowID counts per class\n",
        "benefit = 0\n",
        "for class_label, count in class_counts.items():\n",
        "    print(f\"{class_label}: {count}\")\n",
        "    if (class_label=='>50K'):\n",
        "        benefit += 88 * count\n",
        "    else:\n",
        "        benefit -= 25.5 * count\n",
        "\n",
        "#Compute the true benefit:\n",
        "print(f\"Final benefit: {benefit}\")"
      ],
      "metadata": {
        "colab": {
          "base_uri": "https://localhost:8080/"
        },
        "id": "pndIlLGD2Qkl",
        "outputId": "f74af31a-c25a-4381-a591-785fa114942b"
      },
      "execution_count": null,
      "outputs": [
        {
          "output_type": "stream",
          "name": "stdout",
          "text": [
            "/content/drive/MyDrive/DeepLearning/correct-labels.xlsx\n",
            "/content/drive/MyDrive/DeepLearning/rowID.csv\n"
          ]
        },
        {
          "output_type": "stream",
          "name": "stderr",
          "text": [
            "/usr/local/lib/python3.10/dist-packages/openpyxl/styles/stylesheet.py:226: UserWarning: Workbook contains no default style, apply openpyxl's default\n",
            "  warn(\"Workbook contains no default style, apply openpyxl's default\")\n"
          ]
        },
        {
          "output_type": "stream",
          "name": "stdout",
          "text": [
            ">50K: 2297\n",
            "<=50K: 761\n",
            "Final benefit: 182730.5\n"
          ]
        }
      ]
    }
  ]
}